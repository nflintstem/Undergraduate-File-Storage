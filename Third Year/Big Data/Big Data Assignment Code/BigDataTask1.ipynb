{
  "cells": [
    {
      "cell_type": "code",
      "source": [
        "'''\n",
        "CODE BY NATE YEALANDS-FLINT\n",
        "25051591@STUDENTS.LINCOLN.AC.UK\n",
        "'''"
      ],
      "metadata": {
        "id": "LQhQusYqbYFK"
      },
      "execution_count": null,
      "outputs": []
    },
    {
      "cell_type": "code",
      "execution_count": 1,
      "metadata": {
        "colab": {
          "base_uri": "https://localhost:8080/"
        },
        "id": "4Ow79t9_xLD_",
        "outputId": "330b1f3d-b4ab-48ac-9108-375d29fcab6b"
      },
      "outputs": [
        {
          "output_type": "stream",
          "name": "stdout",
          "text": [
            "--2023-01-19 00:15:08--  https://bin.equinox.io/c/4VmDzA7iaHb/ngrok-stable-linux-amd64.zip\n",
            "Resolving bin.equinox.io (bin.equinox.io)... 52.202.168.65, 18.205.222.128, 54.237.133.81, ...\n",
            "Connecting to bin.equinox.io (bin.equinox.io)|52.202.168.65|:443... connected.\n",
            "HTTP request sent, awaiting response... 200 OK\n",
            "Length: 13832437 (13M) [application/octet-stream]\n",
            "Saving to: ‘ngrok-stable-linux-amd64.zip’\n",
            "\n",
            "ngrok-stable-linux- 100%[===================>]  13.19M  64.7MB/s    in 0.2s    \n",
            "\n",
            "2023-01-19 00:15:08 (64.7 MB/s) - ‘ngrok-stable-linux-amd64.zip’ saved [13832437/13832437]\n",
            "\n",
            "Archive:  ngrok-stable-linux-amd64.zip\n",
            "  inflating: ngrok                   \n",
            "{\"tunnels\":[],\"uri\":\"/api/tunnels\"}\n",
            "Looking in indexes: https://pypi.org/simple, https://us-python.pkg.dev/colab-wheels/public/simple/\n",
            "Requirement already satisfied: pandas in /usr/local/lib/python3.8/dist-packages (1.3.5)\n",
            "Requirement already satisfied: numpy>=1.17.3 in /usr/local/lib/python3.8/dist-packages (from pandas) (1.21.6)\n",
            "Requirement already satisfied: python-dateutil>=2.7.3 in /usr/local/lib/python3.8/dist-packages (from pandas) (2.8.2)\n",
            "Requirement already satisfied: pytz>=2017.3 in /usr/local/lib/python3.8/dist-packages (from pandas) (2022.7)\n",
            "Requirement already satisfied: six>=1.5 in /usr/local/lib/python3.8/dist-packages (from python-dateutil>=2.7.3->pandas) (1.15.0)\n"
          ]
        }
      ],
      "source": [
        "# get spark up and running (do this once when you restart a colab session or it times out)\n",
        "\n",
        "# first, install the jdk\n",
        "!apt-get install openjdk-8-jdk-headless -qq > /dev/null\n",
        "# get spark itself\n",
        "!wget -q http://archive.apache.org/dist/spark/spark-3.1.1/spark-3.1.1-bin-hadoop3.2.tgz\n",
        "\n",
        "# unzip spark\n",
        "!tar xf spark-3.1.1-bin-hadoop3.2.tgz\n",
        "# install findspark so colab notebook sees it\n",
        "!pip install -q findspark\n",
        "\n",
        "# and setup env variable so pyspark works\n",
        "import os\n",
        "os.environ[\"JAVA_HOME\"] = \"/usr/lib/jvm/java-8-openjdk-amd64\"\n",
        "os.environ[\"SPARK_HOME\"] = \"/content/spark-3.1.1-bin-hadoop3.2\"\n",
        "\n",
        "# for using spark UI in colab... this allows tunnel to the UI\n",
        "!wget https://bin.equinox.io/c/4VmDzA7iaHb/ngrok-stable-linux-amd64.zip\n",
        "!unzip ngrok-stable-linux-amd64.zip\n",
        "\n",
        "# Now spark is installed with correct env paths.. so use findspark to install it in colab\n",
        "import findspark\n",
        "findspark.init()\n",
        "\n",
        "# start pyspark session\n",
        "from pyspark.sql import SparkSession\n",
        "\n",
        "spark = SparkSession.builder\\\n",
        "        .master(\"local\")\\\n",
        "        .appName(\"Colab\")\\\n",
        "        .config('spark.ui.port', '4050')\\\n",
        "        .getOrCreate()\n",
        "\n",
        "# make the spark UI work in colab\n",
        "\n",
        "get_ipython().system_raw('./ngrok http 4050 &')\n",
        "!curl -s http://localhost:4040/api/tunnels\n",
        "spark\n",
        "\n",
        "!pip install pandas\n",
        "\n",
        "\n",
        "import seaborn as sb\n",
        "import pandas as pd\n",
        "from pyspark.sql.functions import col,asc,desc,mean,max,min,rand\n",
        "from sklearn import tree,datasets,metrics,svm\n",
        "from sklearn.tree import DecisionTreeClassifier\n",
        "from sklearn.model_selection import train_test_split\n",
        "from sklearn.neural_network import MLPClassifier"
      ]
    },
    {
      "cell_type": "code",
      "source": [
        "import matplotlib.pyplot as plt"
      ],
      "metadata": {
        "id": "BI5O2N4dJiUM"
      },
      "execution_count": 3,
      "outputs": []
    },
    {
      "cell_type": "code",
      "execution_count": 4,
      "metadata": {
        "id": "7LGNI0F_y0Zz"
      },
      "outputs": [],
      "source": [
        "# read some data into a spark dataframe - do the same for pandas, as that's what we use for machine learning\n",
        "reactorspark = spark.read.csv(\"/content/nuclear_plants_small_dataset.csv\",header=True,inferSchema=True)\n",
        "reactorpanda = pd.read_csv(\"/content/nuclear_plants_small_dataset.csv\", delimiter=',', skipinitialspace=True, header=0)"
      ]
    },
    {
      "cell_type": "code",
      "execution_count": null,
      "metadata": {
        "colab": {
          "base_uri": "https://localhost:8080/"
        },
        "id": "xlhHLi-XzMR1",
        "outputId": "e91a2953-e4d1-45cd-a9dd-f50bdadd5a6f"
      },
      "outputs": [
        {
          "output_type": "stream",
          "name": "stdout",
          "text": [
            "root\n",
            " |-- Status: string (nullable = true)\n",
            " |-- Power_range_sensor_1: double (nullable = true)\n",
            " |-- Power_range_sensor_2: double (nullable = true)\n",
            " |-- Power_range_sensor_3 : double (nullable = true)\n",
            " |-- Power_range_sensor_4: double (nullable = true)\n",
            " |-- Pressure _sensor_1: double (nullable = true)\n",
            " |-- Pressure _sensor_2: double (nullable = true)\n",
            " |-- Pressure _sensor_3: double (nullable = true)\n",
            " |-- Pressure _sensor_4: double (nullable = true)\n",
            " |-- Vibration_sensor_1: double (nullable = true)\n",
            " |-- Vibration_sensor_2: double (nullable = true)\n",
            " |-- Vibration_sensor_3: double (nullable = true)\n",
            " |-- Vibration_sensor_4: double (nullable = true)\n",
            "\n"
          ]
        }
      ],
      "source": [
        "reactorspark.printSchema() #show schema for the dataframe"
      ]
    },
    {
      "cell_type": "code",
      "execution_count": null,
      "metadata": {
        "colab": {
          "base_uri": "https://localhost:8080/"
        },
        "id": "8GQHnNRRzPog",
        "outputId": "e9e8ce48-2e1a-4b8a-e357-5626a7d2f6e8"
      },
      "outputs": [
        {
          "output_type": "stream",
          "name": "stdout",
          "text": [
            "+------+--------------------+--------------------+---------------------+--------------------+------------------+------------------+------------------+------------------+------------------+------------------+------------------+------------------+\n",
            "|Status|Power_range_sensor_1|Power_range_sensor_2|Power_range_sensor_3 |Power_range_sensor_4|Pressure _sensor_1|Pressure _sensor_2|Pressure _sensor_3|Pressure _sensor_4|Vibration_sensor_1|Vibration_sensor_2|Vibration_sensor_3|Vibration_sensor_4|\n",
            "+------+--------------------+--------------------+---------------------+--------------------+------------------+------------------+------------------+------------------+------------------+------------------+------------------+------------------+\n",
            "|Normal|              4.5044|              0.7443|                 6.34|              1.9052|           29.5315|            0.8647|            2.2044|             6.048|           14.4659|            21.648|           15.3429|            1.2186|\n",
            "|Normal|              4.4284|              0.9073|               5.6433|              1.6232|           27.5032|            1.4704|            1.9929|            5.9856|           20.8356|            0.0646|           14.8813|            7.3483|\n",
            "|Normal|              4.5291|              1.0199|                6.113|              1.0565|           26.4271|            1.9247|             1.942|            6.7162|            5.3358|           11.0779|           25.0914|            9.2408|\n",
            "|Normal|              5.1727|              1.0007|               7.8589|              0.2765|           25.1576|             2.609|            2.9234|            6.7485|            1.9017|            1.8463|            28.664|            4.0157|\n",
            "|Normal|              5.2258|              0.6125|               7.9504|              0.1547|           24.0765|            3.2113|            4.4563|            5.8411|            0.5077|              9.37|           34.8122|           13.4966|\n",
            "|Normal|              4.8834|              0.5786|               5.6021|              0.5942|           21.0365|            2.6275|            4.3996|            5.3487|            3.6465|            9.3793|           36.2431|            11.124|\n",
            "|Normal|              5.7422|              0.8862|               5.1013|              0.9402|           15.5171|              2.92|            2.7061|            5.0366|            9.1854|            9.1116|           27.3162|            2.8526|\n",
            "|Normal|              6.5076|              0.5438|                7.153|              0.6711|           11.1481|            4.2967|            3.5731|            4.6123|           14.7705|            8.0038|           24.9714|            2.1417|\n",
            "|Normal|               5.625|              0.0403|               7.7087|              0.3214|            8.7975|            2.3293|             4.788|             5.203|            4.3388|            2.4187|           20.9187|            2.1233|\n",
            "|Normal|              4.9942|              0.4092|               6.2604|              0.6931|             6.189|            0.1537|            2.4934|            5.6573|            9.8132|           13.3581|           23.5036|            0.7478|\n",
            "|Normal|              5.9079|              0.9229|               5.3613|              0.3516|            4.0913|            1.1409|            1.4172|            4.4551|            8.1422|            9.8039|           20.7987|            0.1108|\n",
            "|Normal|              6.4215|              0.5978|               5.5765|              1.1847|            1.3588|            2.2807|            2.8529|            4.5002|             0.997|            8.7331|           27.2793|             2.114|\n",
            "|Normal|              5.9253|              0.2161|               6.2439|              0.8835|            4.0169|            1.3687|            3.9973|            5.3891|           18.1585|           14.4843|           25.4514|            5.9267|\n",
            "|Normal|              5.5783|              0.6262|               6.3556|              0.6747|            9.9827|            1.3455|            5.7394|            4.1904|           16.6814|           16.8661|           23.3743|            2.6033|\n",
            "|Normal|               5.495|              0.4971|               5.2286|              1.1902|           14.9418|            1.6808|            6.9821|            2.7535|              11.0|           16.3399|             7.136|            6.4898|\n",
            "|Normal|              5.6332|              0.5182|               4.3826|              1.8375|           19.1719|            2.3223|             6.841|            3.5384|           13.7643|            20.014|            4.0804|           20.5402|\n",
            "|Normal|              5.8438|              1.1902|               5.1022|              2.0297|           20.4563|            3.9257|            9.0478|            3.8586|           12.3057|           17.4384|           29.7256|           21.8234|\n",
            "|Normal|              5.4053|              1.8027|               5.9399|              1.5262|           18.5719|             3.669|           11.0384|            3.5604|           10.6625|           10.4963|           24.8606|           16.2476|\n",
            "|Normal|              5.2075|              1.4804|               5.8466|              1.1105|           16.7172|            2.6032|            8.9125|            4.2609|           20.7064|             7.893|            7.0806|           24.1498|\n",
            "|Normal|              6.0489|              0.9576|               5.3467|              1.5335|           15.4675|            3.7974|            7.7415|            4.0424|           23.3928|            3.3972|             17.54|           27.5655|\n",
            "+------+--------------------+--------------------+---------------------+--------------------+------------------+------------------+------------------+------------------+------------------+------------------+------------------+------------------+\n",
            "only showing top 20 rows\n",
            "\n"
          ]
        }
      ],
      "source": [
        "reactorspark.show() #print the dataframe"
      ]
    },
    {
      "cell_type": "code",
      "source": [
        "#saves time typing\n",
        "#addresses spacing inconsistencies in names\n",
        "#saves me time\n",
        "prs1 = 'Power_range_sensor_1'\n",
        "prs2 = 'Power_range_sensor_2'\n",
        "prs3 = 'Power_range_sensor_3 '\n",
        "prs4 = 'Power_range_sensor_4'\n",
        " \n",
        "ps1 = 'Pressure _sensor_1'\n",
        "ps2 = 'Pressure _sensor_2'\n",
        "ps3 = 'Pressure _sensor_3'\n",
        "ps4 = 'Pressure _sensor_4'\n",
        "\n",
        "vs1 = 'Vibration_sensor_1'\n",
        "vs2 = 'Vibration_sensor_2'\n",
        "vs3 = 'Vibration_sensor_3'\n",
        "vs4 = 'Vibration_sensor_4'\n",
        "\n",
        "features = [prs1,prs2,prs3,prs4,ps1,ps2,ps3,ps4,vs1,vs2,vs3,vs4] #these are the features we will be using to train and test our machine learning algorithms"
      ],
      "metadata": {
        "id": "jB3b8wp6vgUu"
      },
      "execution_count": 5,
      "outputs": []
    },
    {
      "cell_type": "code",
      "source": [
        "nullCount = 0\n",
        "\n",
        "nullCount += reactorspark.where(reactorspark[prs1].isNull()).count()\n",
        "nullCount += reactorspark.where(reactorspark[prs2].isNull()).count()\n",
        "nullCount += reactorspark.where(reactorspark[prs3].isNull()).count()\n",
        "nullCount += reactorspark.where(reactorspark[prs4].isNull()).count()\n",
        "\n",
        "nullCount += reactorspark.where(reactorspark[ps1].isNull()).count()\n",
        "nullCount += reactorspark.where(reactorspark[ps2].isNull()).count()\n",
        "nullCount += reactorspark.where(reactorspark[ps3].isNull()).count()\n",
        "nullCount += reactorspark.where(reactorspark[ps4].isNull()).count()\n",
        "\n",
        "nullCount += reactorspark.where(reactorspark[vs1].isNull()).count()\n",
        "nullCount += reactorspark.where(reactorspark[vs2].isNull()).count()\n",
        "nullCount += reactorspark.where(reactorspark[vs3].isNull()).count()\n",
        "nullCount += reactorspark.where(reactorspark[vs4].isNull()).count()\n",
        "\n",
        "\n",
        "nullCount #print missing cells"
      ],
      "metadata": {
        "id": "W0eS9F-Bfmx5"
      },
      "execution_count": null,
      "outputs": []
    },
    {
      "cell_type": "code",
      "source": [
        "#filter by status\n",
        "dfnorm = reactorspark.filter(reactorspark.Status == \"Normal\")\n",
        "dfabn = reactorspark.filter(reactorspark.Status == \"Abnormal\") "
      ],
      "metadata": {
        "id": "nLpnkx83oSnh"
      },
      "execution_count": 6,
      "outputs": []
    },
    {
      "cell_type": "code",
      "source": [
        "#print summaries, showing only mean, minimum, median (referred to as 50%), maximum\n",
        "#the cells are split by reactor status and sensor type\n",
        "dfnorm.select(prs1,prs2,prs3,prs4).summary(\"Mean\",\"Min\",\"50%\",\"Max\").show()\n",
        "dfnorm.select(ps1,ps2,ps3,ps4).summary(\"Mean\",\"Min\",\"50%\",\"Max\").show()\n",
        "dfnorm.select(vs1,vs2,vs3,vs4).summary(\"Mean\",\"Min\",\"50%\",\"Max\").show()"
      ],
      "metadata": {
        "id": "Lc04E_-8nJ6h",
        "colab": {
          "base_uri": "https://localhost:8080/"
        },
        "outputId": "c88dc035-c6a3-4a0f-b692-0a43268fe892"
      },
      "execution_count": null,
      "outputs": [
        {
          "output_type": "stream",
          "name": "stdout",
          "text": [
            "+-------+--------------------+--------------------+---------------------+--------------------+\n",
            "|summary|Power_range_sensor_1|Power_range_sensor_2|Power_range_sensor_3 |Power_range_sensor_4|\n",
            "+-------+--------------------+--------------------+---------------------+--------------------+\n",
            "|   Mean|   5.602452811244976|   6.844503413654616|    9.292054016064245|   8.701398192771098|\n",
            "|    Min|              0.0851|              0.0403|               4.3826|              0.1547|\n",
            "|    50%|              5.1727|              6.6998|               9.2624|              9.2404|\n",
            "|    Max|             12.1298|             11.9284|              14.0982|             16.3568|\n",
            "+-------+--------------------+--------------------+---------------------+--------------------+\n",
            "\n",
            "+-------+------------------+------------------+------------------+------------------+\n",
            "|summary|Pressure _sensor_1|Pressure _sensor_2|Pressure _sensor_3|Pressure _sensor_4|\n",
            "+-------+------------------+------------------+------------------+------------------+\n",
            "|   Mean|13.797525502008051|3.4156463855421695| 5.923352610441759| 5.586180120481923|\n",
            "|    Min|            0.0248|            0.0104|            0.0774|            0.0058|\n",
            "|    50%|           10.6274|             3.113|            5.7394|            4.2574|\n",
            "|    Max|           56.8562|            9.2212|           12.6475|           15.1085|\n",
            "+-------+------------------+------------------+------------------+------------------+\n",
            "\n",
            "+-------+------------------+------------------+------------------+------------------+\n",
            "|summary|Vibration_sensor_1|Vibration_sensor_2|Vibration_sensor_3|Vibration_sensor_4|\n",
            "+-------+------------------+------------------+------------------+------------------+\n",
            "|   Mean| 8.441436947791166| 9.699615863453822|19.437804417670666|10.925097590361439|\n",
            "|    Min|            0.0092|            0.0277|            0.0646|            0.0831|\n",
            "|    50%|            7.4222|            8.6684|           16.4414|            9.4347|\n",
            "|    Max|           31.4981|           34.8676|           53.2384|           43.2314|\n",
            "+-------+------------------+------------------+------------------+------------------+\n",
            "\n"
          ]
        }
      ]
    },
    {
      "cell_type": "code",
      "source": [
        "dfabn.select(prs1,prs2,prs3,prs4).summary(\"Mean\",\"Min\",\"50%\",\"Max\").show()\n",
        "dfabn.select(ps1,ps2,ps3,ps4).summary(\"Mean\",\"Min\",\"50%\",\"Max\").show()\n",
        "dfabn.select(vs1,vs2,vs3,vs4).summary(\"Mean\",\"Min\",\"50%\",\"Max\").show()"
      ],
      "metadata": {
        "id": "eCmOFtAyWkll",
        "colab": {
          "base_uri": "https://localhost:8080/"
        },
        "outputId": "62667450-919e-4176-fb31-1a31ecb2959c"
      },
      "execution_count": null,
      "outputs": [
        {
          "output_type": "stream",
          "name": "stdout",
          "text": [
            "+-------+--------------------+--------------------+---------------------+--------------------+\n",
            "|summary|Power_range_sensor_1|Power_range_sensor_2|Power_range_sensor_3 |Power_range_sensor_4|\n",
            "+-------+--------------------+--------------------+---------------------+--------------------+\n",
            "|   Mean|   4.396694975903612|   5.914042891566265|    9.164170212851408|    6.00914597991968|\n",
            "|    Min|              0.0082|              0.3891|             2.583966|              0.0623|\n",
            "|    50%|              4.5053|            5.929872|               9.4666|              5.3952|\n",
            "|    Max|           10.923078|             10.1541|              15.7599|           17.235858|\n",
            "+-------+--------------------+--------------------+---------------------+--------------------+\n",
            "\n",
            "+-------+------------------+------------------+------------------+------------------+\n",
            "|summary|Pressure _sensor_1|Pressure _sensor_2|Pressure _sensor_3|Pressure _sensor_4|\n",
            "+-------+------------------+------------------+------------------+------------------+\n",
            "|   Mean|14.600728132530124|2.7402695381526083|5.5751150803212814|  4.40782413253012|\n",
            "|    Min|          0.131478|          0.008262|          0.001224|          0.029478|\n",
            "|    50%|           12.5912|          2.380578|          5.743314|            3.3072|\n",
            "|    Max|           67.9794|         10.242738|           11.7724|          16.55562|\n",
            "+-------+------------------+------------------+------------------+------------------+\n",
            "\n",
            "+-------+------------------+------------------+------------------+------------------+\n",
            "|summary|Vibration_sensor_1|Vibration_sensor_2|Vibration_sensor_3|Vibration_sensor_4|\n",
            "+-------+------------------+------------------+------------------+------------------+\n",
            "|   Mean| 7.887688803212859|10.303569907630527| 10.93815894779115|   8.9420846746988|\n",
            "|    Min|               0.0|            0.0185|          0.131784|            0.0092|\n",
            "|    50%|            6.5175|            8.9085|          8.983038|            8.1145|\n",
            "|    Max|         36.186438|         34.331466|         36.911454|           26.4669|\n",
            "+-------+------------------+------------------+------------------+------------------+\n",
            "\n"
          ]
        }
      ]
    },
    {
      "cell_type": "code",
      "source": [
        "#convert to pandas for box plotting\n",
        "pandanorm = dfnorm.toPandas()\n",
        "pandaAbn = dfabn.toPandas()"
      ],
      "metadata": {
        "id": "G-q6IOaLWlMj"
      },
      "execution_count": 7,
      "outputs": []
    },
    {
      "cell_type": "markdown",
      "source": [
        "## Create box plots\n",
        "Done by status and sensor type"
      ],
      "metadata": {
        "id": "rIfwmrs1gjNa"
      }
    },
    {
      "cell_type": "code",
      "source": [
        "pandanorm.boxplot(column=[prs1,prs2,prs3,prs4], fontsize = 7)\n",
        "plt.title(\"Normal Power Range Sensors\") #add title\n",
        "plt.show()"
      ],
      "metadata": {
        "id": "1lIOXg19jZXo",
        "colab": {
          "base_uri": "https://localhost:8080/",
          "height": 278
        },
        "outputId": "e3a7280c-ca30-4405-ee0b-a70aae753a26"
      },
      "execution_count": null,
      "outputs": [
        {
          "output_type": "display_data",
          "data": {
            "text/plain": [
              "<Figure size 432x288 with 1 Axes>"
            ],
            "image/png": "[encoded data removed]"
          },
          "metadata": {
            "needs_background": "light"
          }
        }
      ]
    },
    {
      "cell_type": "code",
      "source": [
        "pandanorm.boxplot(column=[ps1,ps2,ps3,ps4],fontsize = 7)\n",
        "plt.title(\"Normal Pressure Sensors\")\n",
        "plt.show()"
      ],
      "metadata": {
        "colab": {
          "base_uri": "https://localhost:8080/",
          "height": 278
        },
        "id": "5T_2zV-FRPnd",
        "outputId": "40637d52-547f-488c-b580-65327c291856"
      },
      "execution_count": null,
      "outputs": [
        {
          "output_type": "display_data",
          "data": {
            "text/plain": [
              "<Figure size 432x288 with 1 Axes>"
            ],
            "image/png": "[encoded data removed]"
          },
          "metadata": {
            "needs_background": "light"
          }
        }
      ]
    },
    {
      "cell_type": "code",
      "source": [
        "pandanorm.boxplot(column=[vs1,vs2,vs3,vs4],fontsize = 7)\n",
        "plt.title(\"Normal Vibration Sensors\")\n",
        "plt.show()"
      ],
      "metadata": {
        "colab": {
          "base_uri": "https://localhost:8080/",
          "height": 278
        },
        "id": "mSs4f5dbRPLV",
        "outputId": "cbcfa374-601c-4797-a577-6f1785496f39"
      },
      "execution_count": null,
      "outputs": [
        {
          "output_type": "display_data",
          "data": {
            "text/plain": [
              "<Figure size 432x288 with 1 Axes>"
            ],
            "image/png": "[encoded data removed]"
          },
          "metadata": {
            "needs_background": "light"
          }
        }
      ]
    },
    {
      "cell_type": "code",
      "source": [
        "pandaAbn.boxplot(column=[prs1,prs2,prs3,prs4],fontsize = 7)\n",
        "plt.title(\"Abnormal Power Range Sensors\")\n",
        "plt.show()"
      ],
      "metadata": {
        "id": "WgxSFEV7Y_2q",
        "colab": {
          "base_uri": "https://localhost:8080/",
          "height": 278
        },
        "outputId": "23205536-f6a5-4df7-eccd-7d0ca7972bdc"
      },
      "execution_count": null,
      "outputs": [
        {
          "output_type": "display_data",
          "data": {
            "text/plain": [
              "<Figure size 432x288 with 1 Axes>"
            ],
            "image/png": "[encoded data removed]"
          },
          "metadata": {
            "needs_background": "light"
          }
        }
      ]
    },
    {
      "cell_type": "code",
      "source": [
        "pandaAbn.boxplot(column=[ps1,ps2,ps3,ps4],fontsize = 7)\n",
        "plt.title(\"Abnormal Pressure Sensors\")\n",
        "plt.show()"
      ],
      "metadata": {
        "colab": {
          "base_uri": "https://localhost:8080/",
          "height": 278
        },
        "id": "KUIP-C9vKF4M",
        "outputId": "d33207ce-0611-43f2-8d06-0aa4f6534684"
      },
      "execution_count": 8,
      "outputs": [
        {
          "output_type": "display_data",
          "data": {
            "text/plain": [
              "<Figure size 432x288 with 1 Axes>"
            ],
            "image/png": "[encoded data removed]"
          },
          "metadata": {
            "needs_background": "light"
          }
        }
      ]
    },
    {
      "cell_type": "code",
      "source": [
        "pandaAbn.boxplot(column=[vs1,vs2,vs3,vs4],fontsize = 7)\n",
        "plt.title(\"Abnormal Vibration Sensors\")\n",
        "plt.show()"
      ],
      "metadata": {
        "colab": {
          "base_uri": "https://localhost:8080/",
          "height": 278
        },
        "id": "AL6n0N66KGO0",
        "outputId": "731c870a-0bc9-4ade-a9d5-338492ee0939"
      },
      "execution_count": null,
      "outputs": [
        {
          "output_type": "display_data",
          "data": {
            "text/plain": [
              "<Figure size 432x288 with 1 Axes>"
            ],
            "image/png": "[encoded data removed]"
          },
          "metadata": {
            "needs_background": "light"
          }
        }
      ]
    },
    {
      "cell_type": "code",
      "source": [
        "datacorr = reactorpanda.corr() #get correlation matrix\n",
        "datacorr"
      ],
      "metadata": {
        "id": "rI264Da2pH5V",
        "colab": {
          "base_uri": "https://localhost:8080/",
          "height": 507
        },
        "outputId": "cfcc1200-bca0-40dd-b20f-8a31c9e8e5b4"
      },
      "execution_count": null,
      "outputs": [
        {
          "output_type": "execute_result",
          "data": {
            "text/plain": [
              "                       Power_range_sensor_1  Power_range_sensor_2  \\\n",
              "Power_range_sensor_1               1.000000              0.095235   \n",
              "Power_range_sensor_2               0.095235              1.000000   \n",
              "Power_range_sensor_3               0.229943              0.693818   \n",
              "Power_range_sensor_4               0.499795              0.228438   \n",
              "Pressure _sensor_1                 0.047805             -0.222160   \n",
              "Pressure _sensor_2                 0.652081              0.112438   \n",
              "Pressure _sensor_3                 0.199811              0.583086   \n",
              "Pressure _sensor_4                 0.406382              0.136380   \n",
              "Vibration_sensor_1                -0.152247             -0.119142   \n",
              "Vibration_sensor_2                -0.003684              0.011013   \n",
              "Vibration_sensor_3                 0.106583              0.243242   \n",
              "Vibration_sensor_4                 0.014177              0.058244   \n",
              "\n",
              "                       Power_range_sensor_3   Power_range_sensor_4  \\\n",
              "Power_range_sensor_1                0.229943              0.499795   \n",
              "Power_range_sensor_2                0.693818              0.228438   \n",
              "Power_range_sensor_3                1.000000              0.083362   \n",
              "Power_range_sensor_4                0.083362              1.000000   \n",
              "Pressure _sensor_1                 -0.255865              0.150635   \n",
              "Pressure _sensor_2                  0.166549              0.567705   \n",
              "Pressure _sensor_3                  0.362688             -0.070547   \n",
              "Pressure _sensor_4                  0.062479              0.823637   \n",
              "Vibration_sensor_1                 -0.249057             -0.114117   \n",
              "Vibration_sensor_2                 -0.038320              0.043383   \n",
              "Vibration_sensor_3                  0.215811              0.330499   \n",
              "Vibration_sensor_4                 -0.023962             -0.018193   \n",
              "\n",
              "                       Pressure _sensor_1  Pressure _sensor_2  \\\n",
              "Power_range_sensor_1             0.047805            0.652081   \n",
              "Power_range_sensor_2            -0.222160            0.112438   \n",
              "Power_range_sensor_3            -0.255865            0.166549   \n",
              "Power_range_sensor_4             0.150635            0.567705   \n",
              "Pressure _sensor_1               1.000000            0.116859   \n",
              "Pressure _sensor_2               0.116859            1.000000   \n",
              "Pressure _sensor_3              -0.118713            0.091341   \n",
              "Pressure _sensor_4               0.131136            0.571403   \n",
              "Vibration_sensor_1               0.101438           -0.099950   \n",
              "Vibration_sensor_2              -0.035196           -0.027698   \n",
              "Vibration_sensor_3              -0.084575            0.011015   \n",
              "Vibration_sensor_4              -0.125128            0.001189   \n",
              "\n",
              "                       Pressure _sensor_3  Pressure _sensor_4  \\\n",
              "Power_range_sensor_1             0.199811            0.406382   \n",
              "Power_range_sensor_2             0.583086            0.136380   \n",
              "Power_range_sensor_3             0.362688            0.062479   \n",
              "Power_range_sensor_4            -0.070547            0.823637   \n",
              "Pressure _sensor_1              -0.118713            0.131136   \n",
              "Pressure _sensor_2               0.091341            0.571403   \n",
              "Pressure _sensor_3               1.000000            0.001591   \n",
              "Pressure _sensor_4               0.001591            1.000000   \n",
              "Vibration_sensor_1               0.016497           -0.112696   \n",
              "Vibration_sensor_2               0.029766            0.010560   \n",
              "Vibration_sensor_3               0.019993            0.191842   \n",
              "Vibration_sensor_4               0.105642            0.047000   \n",
              "\n",
              "                       Vibration_sensor_1  Vibration_sensor_2  \\\n",
              "Power_range_sensor_1            -0.152247           -0.003684   \n",
              "Power_range_sensor_2            -0.119142            0.011013   \n",
              "Power_range_sensor_3            -0.249057           -0.038320   \n",
              "Power_range_sensor_4            -0.114117            0.043383   \n",
              "Pressure _sensor_1               0.101438           -0.035196   \n",
              "Pressure _sensor_2              -0.099950           -0.027698   \n",
              "Pressure _sensor_3               0.016497            0.029766   \n",
              "Pressure _sensor_4              -0.112696            0.010560   \n",
              "Vibration_sensor_1               1.000000           -0.045857   \n",
              "Vibration_sensor_2              -0.045857            1.000000   \n",
              "Vibration_sensor_3              -0.076277            0.103704   \n",
              "Vibration_sensor_4               0.026480           -0.023290   \n",
              "\n",
              "                       Vibration_sensor_3  Vibration_sensor_4  \n",
              "Power_range_sensor_1             0.106583            0.014177  \n",
              "Power_range_sensor_2             0.243242            0.058244  \n",
              "Power_range_sensor_3             0.215811           -0.023962  \n",
              "Power_range_sensor_4             0.330499           -0.018193  \n",
              "Pressure _sensor_1              -0.084575           -0.125128  \n",
              "Pressure _sensor_2               0.011015            0.001189  \n",
              "Pressure _sensor_3               0.019993            0.105642  \n",
              "Pressure _sensor_4               0.191842            0.047000  \n",
              "Vibration_sensor_1              -0.076277            0.026480  \n",
              "Vibration_sensor_2               0.103704           -0.023290  \n",
              "Vibration_sensor_3               1.000000           -0.015536  \n",
              "Vibration_sensor_4              -0.015536            1.000000  "
            ],
            "text/html": [
              "\n",
              "  <div id=\"df-70f9bb0a-3157-4ea1-b4a1-5ac38abf5f3e\">\n",
              "    <div class=\"colab-df-container\">\n",
              "      <div>\n",
              "<style scoped>\n",
              "    .dataframe tbody tr th:only-of-type {\n",
              "        vertical-align: middle;\n",
              "    }\n",
              "\n",
              "    .dataframe tbody tr th {\n",
              "        vertical-align: top;\n",
              "    }\n",
              "\n",
              "    .dataframe thead th {\n",
              "        text-align: right;\n",
              "    }\n",
              "</style>\n",
              "<table border=\"1\" class=\"dataframe\">\n",
              "  <thead>\n",
              "    <tr style=\"text-align: right;\">\n",
              "      <th></th>\n",
              "      <th>Power_range_sensor_1</th>\n",
              "      <th>Power_range_sensor_2</th>\n",
              "      <th>Power_range_sensor_3</th>\n",
              "      <th>Power_range_sensor_4</th>\n",
              "      <th>Pressure _sensor_1</th>\n",
              "      <th>Pressure _sensor_2</th>\n",
              "      <th>Pressure _sensor_3</th>\n",
              "      <th>Pressure _sensor_4</th>\n",
              "      <th>Vibration_sensor_1</th>\n",
              "      <th>Vibration_sensor_2</th>\n",
              "      <th>Vibration_sensor_3</th>\n",
              "      <th>Vibration_sensor_4</th>\n",
              "    </tr>\n",
              "  </thead>\n",
              "  <tbody>\n",
              "    <tr>\n",
              "      <th>Power_range_sensor_1</th>\n",
              "      <td>1.000000</td>\n",
              "      <td>0.095235</td>\n",
              "      <td>0.229943</td>\n",
              "      <td>0.499795</td>\n",
              "      <td>0.047805</td>\n",
              "      <td>0.652081</td>\n",
              "      <td>0.199811</td>\n",
              "      <td>0.406382</td>\n",
              "      <td>-0.152247</td>\n",
              "      <td>-0.003684</td>\n",
              "      <td>0.106583</td>\n",
              "      <td>0.014177</td>\n",
              "    </tr>\n",
              "    <tr>\n",
              "      <th>Power_range_sensor_2</th>\n",
              "      <td>0.095235</td>\n",
              "      <td>1.000000</td>\n",
              "      <td>0.693818</td>\n",
              "      <td>0.228438</td>\n",
              "      <td>-0.222160</td>\n",
              "      <td>0.112438</td>\n",
              "      <td>0.583086</td>\n",
              "      <td>0.136380</td>\n",
              "      <td>-0.119142</td>\n",
              "      <td>0.011013</td>\n",
              "      <td>0.243242</td>\n",
              "      <td>0.058244</td>\n",
              "    </tr>\n",
              "    <tr>\n",
              "      <th>Power_range_sensor_3</th>\n",
              "      <td>0.229943</td>\n",
              "      <td>0.693818</td>\n",
              "      <td>1.000000</td>\n",
              "      <td>0.083362</td>\n",
              "      <td>-0.255865</td>\n",
              "      <td>0.166549</td>\n",
              "      <td>0.362688</td>\n",
              "      <td>0.062479</td>\n",
              "      <td>-0.249057</td>\n",
              "      <td>-0.038320</td>\n",
              "      <td>0.215811</td>\n",
              "      <td>-0.023962</td>\n",
              "    </tr>\n",
              "    <tr>\n",
              "      <th>Power_range_sensor_4</th>\n",
              "      <td>0.499795</td>\n",
              "      <td>0.228438</td>\n",
              "      <td>0.083362</td>\n",
              "      <td>1.000000</td>\n",
              "      <td>0.150635</td>\n",
              "      <td>0.567705</td>\n",
              "      <td>-0.070547</td>\n",
              "      <td>0.823637</td>\n",
              "      <td>-0.114117</td>\n",
              "      <td>0.043383</td>\n",
              "      <td>0.330499</td>\n",
              "      <td>-0.018193</td>\n",
              "    </tr>\n",
              "    <tr>\n",
              "      <th>Pressure _sensor_1</th>\n",
              "      <td>0.047805</td>\n",
              "      <td>-0.222160</td>\n",
              "      <td>-0.255865</td>\n",
              "      <td>0.150635</td>\n",
              "      <td>1.000000</td>\n",
              "      <td>0.116859</td>\n",
              "      <td>-0.118713</td>\n",
              "      <td>0.131136</td>\n",
              "      <td>0.101438</td>\n",
              "      <td>-0.035196</td>\n",
              "      <td>-0.084575</td>\n",
              "      <td>-0.125128</td>\n",
              "    </tr>\n",
              "    <tr>\n",
              "      <th>Pressure _sensor_2</th>\n",
              "      <td>0.652081</td>\n",
              "      <td>0.112438</td>\n",
              "      <td>0.166549</td>\n",
              "      <td>0.567705</td>\n",
              "      <td>0.116859</td>\n",
              "      <td>1.000000</td>\n",
              "      <td>0.091341</td>\n",
              "      <td>0.571403</td>\n",
              "      <td>-0.099950</td>\n",
              "      <td>-0.027698</td>\n",
              "      <td>0.011015</td>\n",
              "      <td>0.001189</td>\n",
              "    </tr>\n",
              "    <tr>\n",
              "      <th>Pressure _sensor_3</th>\n",
              "      <td>0.199811</td>\n",
              "      <td>0.583086</td>\n",
              "      <td>0.362688</td>\n",
              "      <td>-0.070547</td>\n",
              "      <td>-0.118713</td>\n",
              "      <td>0.091341</td>\n",
              "      <td>1.000000</td>\n",
              "      <td>0.001591</td>\n",
              "      <td>0.016497</td>\n",
              "      <td>0.029766</td>\n",
              "      <td>0.019993</td>\n",
              "      <td>0.105642</td>\n",
              "    </tr>\n",
              "    <tr>\n",
              "      <th>Pressure _sensor_4</th>\n",
              "      <td>0.406382</td>\n",
              "      <td>0.136380</td>\n",
              "      <td>0.062479</td>\n",
              "      <td>0.823637</td>\n",
              "      <td>0.131136</td>\n",
              "      <td>0.571403</td>\n",
              "      <td>0.001591</td>\n",
              "      <td>1.000000</td>\n",
              "      <td>-0.112696</td>\n",
              "      <td>0.010560</td>\n",
              "      <td>0.191842</td>\n",
              "      <td>0.047000</td>\n",
              "    </tr>\n",
              "    <tr>\n",
              "      <th>Vibration_sensor_1</th>\n",
              "      <td>-0.152247</td>\n",
              "      <td>-0.119142</td>\n",
              "      <td>-0.249057</td>\n",
              "      <td>-0.114117</td>\n",
              "      <td>0.101438</td>\n",
              "      <td>-0.099950</td>\n",
              "      <td>0.016497</td>\n",
              "      <td>-0.112696</td>\n",
              "      <td>1.000000</td>\n",
              "      <td>-0.045857</td>\n",
              "      <td>-0.076277</td>\n",
              "      <td>0.026480</td>\n",
              "    </tr>\n",
              "    <tr>\n",
              "      <th>Vibration_sensor_2</th>\n",
              "      <td>-0.003684</td>\n",
              "      <td>0.011013</td>\n",
              "      <td>-0.038320</td>\n",
              "      <td>0.043383</td>\n",
              "      <td>-0.035196</td>\n",
              "      <td>-0.027698</td>\n",
              "      <td>0.029766</td>\n",
              "      <td>0.010560</td>\n",
              "      <td>-0.045857</td>\n",
              "      <td>1.000000</td>\n",
              "      <td>0.103704</td>\n",
              "      <td>-0.023290</td>\n",
              "    </tr>\n",
              "    <tr>\n",
              "      <th>Vibration_sensor_3</th>\n",
              "      <td>0.106583</td>\n",
              "      <td>0.243242</td>\n",
              "      <td>0.215811</td>\n",
              "      <td>0.330499</td>\n",
              "      <td>-0.084575</td>\n",
              "      <td>0.011015</td>\n",
              "      <td>0.019993</td>\n",
              "      <td>0.191842</td>\n",
              "      <td>-0.076277</td>\n",
              "      <td>0.103704</td>\n",
              "      <td>1.000000</td>\n",
              "      <td>-0.015536</td>\n",
              "    </tr>\n",
              "    <tr>\n",
              "      <th>Vibration_sensor_4</th>\n",
              "      <td>0.014177</td>\n",
              "      <td>0.058244</td>\n",
              "      <td>-0.023962</td>\n",
              "      <td>-0.018193</td>\n",
              "      <td>-0.125128</td>\n",
              "      <td>0.001189</td>\n",
              "      <td>0.105642</td>\n",
              "      <td>0.047000</td>\n",
              "      <td>0.026480</td>\n",
              "      <td>-0.023290</td>\n",
              "      <td>-0.015536</td>\n",
              "      <td>1.000000</td>\n",
              "    </tr>\n",
              "  </tbody>\n",
              "</table>\n",
              "</div>\n",
              "      <button class=\"colab-df-convert\" onclick=\"convertToInteractive('df-70f9bb0a-3157-4ea1-b4a1-5ac38abf5f3e')\"\n",
              "              title=\"Convert this dataframe to an interactive table.\"\n",
              "              style=\"display:none;\">\n",
              "        \n",
              "  <svg xmlns=\"http://www.w3.org/2000/svg\" height=\"24px\"viewBox=\"0 0 24 24\"\n",
              "       width=\"24px\">\n",
              "    <path d=\"M0 0h24v24H0V0z\" fill=\"none\"/>\n",
              "    <path d=\"M18.56 5.44l.94 2.06.94-2.06 2.06-.94-2.06-.94-.94-2.06-.94 2.06-2.06.94zm-11 1L8.5 8.5l.94-2.06 2.06-.94-2.06-.94L8.5 2.5l-.94 2.06-2.06.94zm10 10l.94 2.06.94-2.06 2.06-.94-2.06-.94-.94-2.06-.94 2.06-2.06.94z\"/><path d=\"M17.41 7.96l-1.37-1.37c-.4-.4-.92-.59-1.43-.59-.52 0-1.04.2-1.43.59L10.3 9.45l-7.72 7.72c-.78.78-.78 2.05 0 2.83L4 21.41c.39.39.9.59 1.41.59.51 0 1.02-.2 1.41-.59l7.78-7.78 2.81-2.81c.8-.78.8-2.07 0-2.86zM5.41 20L4 18.59l7.72-7.72 1.47 1.35L5.41 20z\"/>\n",
              "  </svg>\n",
              "      </button>\n",
              "      \n",
              "  <style>\n",
              "    .colab-df-container {\n",
              "      display:flex;\n",
              "      flex-wrap:wrap;\n",
              "      gap: 12px;\n",
              "    }\n",
              "\n",
              "    .colab-df-convert {\n",
              "      background-color: #E8F0FE;\n",
              "      border: none;\n",
              "      border-radius: 50%;\n",
              "      cursor: pointer;\n",
              "      display: none;\n",
              "      fill: #1967D2;\n",
              "      height: 32px;\n",
              "      padding: 0 0 0 0;\n",
              "      width: 32px;\n",
              "    }\n",
              "\n",
              "    .colab-df-convert:hover {\n",
              "      background-color: #E2EBFA;\n",
              "      box-shadow: 0px 1px 2px rgba(60, 64, 67, 0.3), 0px 1px 3px 1px rgba(60, 64, 67, 0.15);\n",
              "      fill: #174EA6;\n",
              "    }\n",
              "\n",
              "    [theme=dark] .colab-df-convert {\n",
              "      background-color: #3B4455;\n",
              "      fill: #D2E3FC;\n",
              "    }\n",
              "\n",
              "    [theme=dark] .colab-df-convert:hover {\n",
              "      background-color: #434B5C;\n",
              "      box-shadow: 0px 1px 3px 1px rgba(0, 0, 0, 0.15);\n",
              "      filter: drop-shadow(0px 1px 2px rgba(0, 0, 0, 0.3));\n",
              "      fill: #FFFFFF;\n",
              "    }\n",
              "  </style>\n",
              "\n",
              "      <script>\n",
              "        const buttonEl =\n",
              "          document.querySelector('#df-70f9bb0a-3157-4ea1-b4a1-5ac38abf5f3e button.colab-df-convert');\n",
              "        buttonEl.style.display =\n",
              "          google.colab.kernel.accessAllowed ? 'block' : 'none';\n",
              "\n",
              "        async function convertToInteractive(key) {\n",
              "          const element = document.querySelector('#df-70f9bb0a-3157-4ea1-b4a1-5ac38abf5f3e');\n",
              "          const dataTable =\n",
              "            await google.colab.kernel.invokeFunction('convertToInteractive',\n",
              "                                                     [key], {});\n",
              "          if (!dataTable) return;\n",
              "\n",
              "          const docLinkHtml = 'Like what you see? Visit the ' +\n",
              "            '<a target=\"_blank\" href=https://colab.research.google.com/notebooks/data_table.ipynb>data table notebook</a>'\n",
              "            + ' to learn more about interactive tables.';\n",
              "          element.innerHTML = '';\n",
              "          dataTable['output_type'] = 'display_data';\n",
              "          await google.colab.output.renderOutput(dataTable, element);\n",
              "          const docLink = document.createElement('div');\n",
              "          docLink.innerHTML = docLinkHtml;\n",
              "          element.appendChild(docLink);\n",
              "        }\n",
              "      </script>\n",
              "    </div>\n",
              "  </div>\n",
              "  "
            ]
          },
          "metadata": {},
          "execution_count": 14
        }
      ]
    },
    {
      "cell_type": "markdown",
      "source": [
        "## Machine Learning Preparation"
      ],
      "metadata": {
        "id": "vjW7X98KjO2u"
      }
    },
    {
      "cell_type": "code",
      "source": [
        "statmap = {\"Normal\": 0, \"Abnormal\": 1}\n",
        "reactorpanda[\"Status\"] = reactorpanda[\"Status\"].map(statmap) # maps status words to the number for the machine learning algorithms"
      ],
      "metadata": {
        "id": "DSewZBTTIuhK"
      },
      "execution_count": null,
      "outputs": []
    },
    {
      "cell_type": "code",
      "source": [
        "pandatrain,pandatest = train_test_split(reactorpanda,test_size=0.3)\n",
        "#count number of items in the split dataset\n",
        "print(pandatrain['Status'].count())\n",
        "print(pandatest['Status'].count())"
      ],
      "metadata": {
        "id": "WOWxzEvxpr2b",
        "colab": {
          "base_uri": "https://localhost:8080/"
        },
        "outputId": "45369172-3a16-4fe7-92e9-f57492fcb981"
      },
      "execution_count": null,
      "outputs": [
        {
          "output_type": "stream",
          "name": "stdout",
          "text": [
            "697\n",
            "299\n"
          ]
        }
      ]
    },
    {
      "cell_type": "code",
      "source": [
        "print(len(pandatrain[pandatrain['Status'] == 0]))\n",
        "print(len(pandatrain[pandatrain['Status'] == 1]))\n",
        "#count how many of each status type there is"
      ],
      "metadata": {
        "colab": {
          "base_uri": "https://localhost:8080/"
        },
        "id": "zR5y_YAUGC4b",
        "outputId": "aeb97024-4c19-4ff0-b2d7-b4df6fa437cf"
      },
      "execution_count": null,
      "outputs": [
        {
          "output_type": "stream",
          "name": "stdout",
          "text": [
            "342\n",
            "355\n"
          ]
        }
      ]
    },
    {
      "cell_type": "code",
      "source": [
        "print(len(pandatest[pandatest['Status'] == 0]))\n",
        "print(len(pandatest[pandatest['Status'] == 1]))"
      ],
      "metadata": {
        "colab": {
          "base_uri": "https://localhost:8080/"
        },
        "id": "85Y3HXqdGCdb",
        "outputId": "ab558aba-da15-4dc9-f8bf-b24f64a0db70"
      },
      "execution_count": null,
      "outputs": [
        {
          "output_type": "stream",
          "name": "stdout",
          "text": [
            "156\n",
            "143\n"
          ]
        }
      ]
    },
    {
      "cell_type": "code",
      "source": [
        "trainX = pandatrain[features] #split the train data into X, with features\n",
        "trainY = pandatrain['Status'] #and Y, with the status'"
      ],
      "metadata": {
        "id": "c-vxwEMN_y9r"
      },
      "execution_count": null,
      "outputs": []
    },
    {
      "cell_type": "code",
      "source": [
        "#creates dataframe for results to go into\n",
        "def resultGet(err,sen,spec):\n",
        "  table = {\"Metrics\": [\"Error Rate\", \"Sensitivity\", \"Specificity\"], \"Result\": [err,sen,spec]}\n",
        "  df = pd.DataFrame(data=table)\n",
        "  return df"
      ],
      "metadata": {
        "id": "h3g4mK_zjS2U"
      },
      "execution_count": null,
      "outputs": []
    },
    {
      "cell_type": "markdown",
      "source": [
        "###Decision Tree"
      ],
      "metadata": {
        "id": "B2snGfCTltdL"
      }
    },
    {
      "cell_type": "code",
      "source": [
        "dtree = DecisionTreeClassifier() # create a decision tree\n",
        "dtree = dtree.fit(trainX,trainY)\n",
        "testPreddt = dtree.predict(pandatest[features]) #test predictions go in an array"
      ],
      "metadata": {
        "id": "qni9Uek4S1qY"
      },
      "execution_count": null,
      "outputs": []
    },
    {
      "cell_type": "code",
      "source": [
        "conmat = metrics.confusion_matrix(pandatest[\"Status\"], testPreddt) #make a confusion matrix\n",
        "\n",
        "\n",
        "dtcm = metrics.ConfusionMatrixDisplay(confusion_matrix = conmat, display_labels = [0, 1])\n",
        "\n",
        "dtcm.plot()\n",
        "plt.title(\"Decision Tree Confusion Matrix\")\n",
        "plt.show()"
      ],
      "metadata": {
        "colab": {
          "base_uri": "https://localhost:8080/",
          "height": 295
        },
        "id": "A0VopTErQdmz",
        "outputId": "b318e2d6-856d-4bdb-fae8-b2c3e5316d7d"
      },
      "execution_count": null,
      "outputs": [
        {
          "output_type": "display_data",
          "data": {
            "text/plain": [
              "<Figure size 432x288 with 2 Axes>"
            ],
            "image/png": "[encoded data removed]"
          },
          "metadata": {
            "needs_background": "light"
          }
        }
      ]
    },
    {
      "cell_type": "code",
      "source": [
        "err = 1 - metrics.accuracy_score(pandatest[\"Status\"], testPreddt) #1-accuracy gets error rate\n",
        "sens = metrics.recall_score(pandatest[\"Status\"], testPreddt) #sensiivity\n",
        "spec = metrics.recall_score(pandatest[\"Status\"], testPreddt, pos_label=0) #specifity - as it's opposite of sensitivity, take opposite position label\n",
        "\n",
        "print(resultGet(err,sens,spec))"
      ],
      "metadata": {
        "colab": {
          "base_uri": "https://localhost:8080/"
        },
        "id": "1j0sKjt1RSJT",
        "outputId": "92f86df2-2397-494b-cb3e-26cbf2554068"
      },
      "execution_count": null,
      "outputs": [
        {
          "output_type": "stream",
          "name": "stdout",
          "text": [
            "       Metrics    Result\n",
            "0   Error Rate  0.200669\n",
            "1  Sensitivity  0.790210\n",
            "2  Specificity  0.807692\n"
          ]
        }
      ]
    },
    {
      "cell_type": "markdown",
      "source": [
        "###Suport Vector Model"
      ],
      "metadata": {
        "id": "hXCjYi9Hlwq7"
      }
    },
    {
      "cell_type": "code",
      "source": [
        "clf = svm.SVC() #create a support vector machine and do exactly same process as with decision tree\n",
        "clf.fit(trainX,trainY)\n",
        "testPredsvm = clf.predict(pandatest[features])"
      ],
      "metadata": {
        "id": "h4ZYlkBHlzlz"
      },
      "execution_count": null,
      "outputs": []
    },
    {
      "cell_type": "code",
      "source": [
        "conmat = metrics.confusion_matrix(pandatest[\"Status\"], testPredsvm)\n",
        "svmcm = metrics.ConfusionMatrixDisplay(confusion_matrix = conmat, display_labels = [0, 1])\n",
        "svmcm.plot()\n",
        "\n",
        "plt.title(\"Support Vector Machine Confusion Matrix\")\n",
        "plt.show()"
      ],
      "metadata": {
        "colab": {
          "base_uri": "https://localhost:8080/",
          "height": 295
        },
        "id": "MDeEKbqnpMSO",
        "outputId": "3a7a238c-a4e9-441f-c112-f083f1ec8c40"
      },
      "execution_count": null,
      "outputs": [
        {
          "output_type": "display_data",
          "data": {
            "text/plain": [
              "<Figure size 432x288 with 2 Axes>"
            ],
            "image/png": "[encoded data removed]"
          },
          "metadata": {
            "needs_background": "light"
          }
        }
      ]
    },
    {
      "cell_type": "code",
      "source": [
        "err = 1 - metrics.accuracy_score(pandatest[\"Status\"], testPredsvm)\n",
        "sens = metrics.recall_score(pandatest[\"Status\"], testPredsvm)\n",
        "spec = metrics.recall_score(pandatest[\"Status\"], testPredsvm, pos_label=0)\n",
        "\n",
        "print(resultGet(err,sens,spec))"
      ],
      "metadata": {
        "colab": {
          "base_uri": "https://localhost:8080/"
        },
        "id": "9lryo0hMpMNO",
        "outputId": "55f04bfe-7580-431c-9152-831887c1e3c2"
      },
      "execution_count": null,
      "outputs": [
        {
          "output_type": "stream",
          "name": "stdout",
          "text": [
            "       Metrics    Result\n",
            "0   Error Rate  0.244147\n",
            "1  Sensitivity  0.783217\n",
            "2  Specificity  0.730769\n"
          ]
        }
      ]
    },
    {
      "cell_type": "code",
      "source": [
        "supportvecs = clf.support_vectors_ #print the support vectors\n",
        "supportvecs"
      ],
      "metadata": {
        "colab": {
          "base_uri": "https://localhost:8080/"
        },
        "id": "yuW9sNxlptyF",
        "outputId": "dd2e830f-ef75-4cc0-b232-643d4c3049e2"
      },
      "execution_count": null,
      "outputs": [
        {
          "output_type": "execute_result",
          "data": {
            "text/plain": [
              "array([[ 2.6413  , 10.7758  , 14.0982  , ..., 17.1338  , 31.6827  ,\n",
              "         6.0651  ],\n",
              "       [ 5.9253  ,  0.2161  ,  6.2439  , ..., 14.4843  , 25.4514  ,\n",
              "         5.9267  ],\n",
              "       [ 4.4449  ,  5.1434  ,  6.7538  , ...,  8.8531  ,  5.4466  ,\n",
              "        22.7835  ],\n",
              "       ...,\n",
              "       [ 4.706586,  5.369586, 10.162056, ...,  0.734502,  3.691176,\n",
              "        11.431242],\n",
              "       [ 5.137   ,  5.3503  ,  9.2157  , ..., 18.9524  , 14.4566  ,\n",
              "         9.8316  ],\n",
              "       [ 3.254412,  6.055026,  9.47937 , ..., 15.85692 ,  0.169524,\n",
              "         1.42188 ]])"
            ]
          },
          "metadata": {},
          "execution_count": 62
        }
      ]
    },
    {
      "cell_type": "markdown",
      "source": [
        "### Artificial Neural Network"
      ],
      "metadata": {
        "id": "rN6liKLjpdVe"
      }
    },
    {
      "cell_type": "code",
      "source": [
        "ann = MLPClassifier(solver='lbfgs', alpha=1e-53, hidden_layer_sizes=(2, 2), random_state=0)\n",
        "#make an artificial neural network. set hidden layer sizes to be of two hidden layers with two nodes\n",
        "ann.fit(trainX,trainY)\n",
        "testPredann = ann.predict(pandatest[features])"
      ],
      "metadata": {
        "id": "_nMd4NB9rRt_",
        "outputId": "6d2ad2cd-070c-4ced-dce9-ed9a9f50d71b",
        "colab": {
          "base_uri": "https://localhost:8080/",
          "height": 200
        }
      },
      "execution_count": null,
      "outputs": [
        {
          "output_type": "error",
          "ename": "NameError",
          "evalue": "ignored",
          "traceback": [
            "\u001b[0;31m---------------------------------------------------------------------------\u001b[0m",
            "\u001b[0;31mNameError\u001b[0m                                 Traceback (most recent call last)",
            "\u001b[0;32m<ipython-input-1-cf8bb2105e41>\u001b[0m in \u001b[0;36m<module>\u001b[0;34m\u001b[0m\n\u001b[0;32m----> 1\u001b[0;31m \u001b[0mann\u001b[0m \u001b[0;34m=\u001b[0m \u001b[0mMLPClassifier\u001b[0m\u001b[0;34m(\u001b[0m\u001b[0msolver\u001b[0m\u001b[0;34m=\u001b[0m\u001b[0;34m'lbfgs'\u001b[0m\u001b[0;34m,\u001b[0m \u001b[0malpha\u001b[0m\u001b[0;34m=\u001b[0m\u001b[0;36m1e-53\u001b[0m\u001b[0;34m,\u001b[0m \u001b[0mhidden_layer_sizes\u001b[0m\u001b[0;34m=\u001b[0m\u001b[0;34m(\u001b[0m\u001b[0;36m2\u001b[0m\u001b[0;34m,\u001b[0m \u001b[0;36m2\u001b[0m\u001b[0;34m)\u001b[0m\u001b[0;34m,\u001b[0m \u001b[0mrandom_state\u001b[0m\u001b[0;34m=\u001b[0m\u001b[0;36m0\u001b[0m\u001b[0;34m)\u001b[0m\u001b[0;34m\u001b[0m\u001b[0;34m\u001b[0m\u001b[0m\n\u001b[0m\u001b[1;32m      2\u001b[0m \u001b[0mann\u001b[0m\u001b[0;34m.\u001b[0m\u001b[0mfit\u001b[0m\u001b[0;34m(\u001b[0m\u001b[0mtrainX\u001b[0m\u001b[0;34m,\u001b[0m\u001b[0mtrainY\u001b[0m\u001b[0;34m)\u001b[0m\u001b[0;34m\u001b[0m\u001b[0;34m\u001b[0m\u001b[0m\n\u001b[1;32m      3\u001b[0m \u001b[0mtestPredann\u001b[0m \u001b[0;34m=\u001b[0m \u001b[0mann\u001b[0m\u001b[0;34m.\u001b[0m\u001b[0mpredict\u001b[0m\u001b[0;34m(\u001b[0m\u001b[0mpandatest\u001b[0m\u001b[0;34m[\u001b[0m\u001b[0mfeatures\u001b[0m\u001b[0;34m]\u001b[0m\u001b[0;34m)\u001b[0m\u001b[0;34m\u001b[0m\u001b[0;34m\u001b[0m\u001b[0m\n",
            "\u001b[0;31mNameError\u001b[0m: name 'MLPClassifier' is not defined"
          ]
        }
      ]
    },
    {
      "cell_type": "code",
      "source": [
        "conmat = metrics.confusion_matrix(pandatest[\"Status\"], testPredann) #repeat confusion matrix, error rate etc calculation process\n",
        "anncm = metrics.ConfusionMatrixDisplay(confusion_matrix = conmat, display_labels = [0, 1])\n",
        "anncm.plot()\n",
        "plt.title(\"Artificial Neural Network Confusion Matrix\")\n",
        "plt.show()"
      ],
      "metadata": {
        "colab": {
          "base_uri": "https://localhost:8080/",
          "height": 295
        },
        "id": "HL07ZjUU0GvY",
        "outputId": "48a5076a-9086-49b6-9957-983788aa8f98"
      },
      "execution_count": null,
      "outputs": [
        {
          "output_type": "display_data",
          "data": {
            "text/plain": [
              "<Figure size 432x288 with 2 Axes>"
            ],
            "image/png": "[encoded data removed]"
          },
          "metadata": {
            "needs_background": "light"
          }
        }
      ]
    },
    {
      "cell_type": "code",
      "source": [
        "err = 1 - metrics.accuracy_score(pandatest[\"Status\"], testPredann)\n",
        "sens = metrics.recall_score(pandatest[\"Status\"], testPredann)\n",
        "spec = metrics.recall_score(pandatest[\"Status\"], testPredann, pos_label=0)\n",
        "\n",
        "print(resultGet(err,sens,spec))"
      ],
      "metadata": {
        "colab": {
          "base_uri": "https://localhost:8080/"
        },
        "id": "xi0q5jDH0Mog",
        "outputId": "7d012134-3829-4c93-c63f-8a73867d4662"
      },
      "execution_count": null,
      "outputs": [
        {
          "output_type": "stream",
          "name": "stdout",
          "text": [
            "       Metrics    Result\n",
            "0   Error Rate  0.351171\n",
            "1  Sensitivity  0.664336\n",
            "2  Specificity  0.634615\n"
          ]
        }
      ]
    }
  ],
  "metadata": {
    "colab": {
      "provenance": []
    },
    "kernelspec": {
      "display_name": "Python 3",
      "name": "python3"
    },
    "language_info": {
      "name": "python"
    }
  },
  "nbformat": 4,
  "nbformat_minor": 0
}