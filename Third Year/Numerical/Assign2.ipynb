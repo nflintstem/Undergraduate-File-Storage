{
  "nbformat": 4,
  "nbformat_minor": 0,
  "metadata": {
    "colab": {
      "provenance": []
    },
    "kernelspec": {
      "name": "python3",
      "display_name": "Python 3"
    },
    "language_info": {
      "name": "python"
    }
  },
  "cells": [
    {
      "cell_type": "code",
      "source": [
        "import numpy as np\n",
        "from matplotlib import pyplot as plt\n",
        "import math\n",
        "from scipy.integrate import odeint"
      ],
      "metadata": {
        "id": "1soQ4Ufywe-V"
      },
      "execution_count": 1,
      "outputs": []
    },
    {
      "cell_type": "code",
      "source": [
        "def gaussElim(A,b):\n",
        "    \"\"\"\n",
        "    Routine to solve problem Ax = b using gauss elim.\n",
        "    A is an NxN matrix, b a column vector of size N\n",
        "    returns x vector of dimentsion N\n",
        "    \"\"\"\n",
        "    # setup our augmented matrix by copying A and b\n",
        "    N = A.shape[0]\n",
        "    augmat = np.zeros((N, N+1))\n",
        "    augmat[:,:N] = np.copy(A)\n",
        "    augmat[:,N] = np.copy(b)\n",
        "    \n",
        "    for pivot in range(0,N):\n",
        "        refrow = pivot\n",
        "        for row in range(refrow+1, N):\n",
        "            ratio =  augmat[row,refrow]/augmat[refrow,refrow]\n",
        "            for col in range(refrow, N+1):\n",
        "                augmat[row,col] = augmat[row,col] - augmat[refrow,col]*ratio\n",
        "    #print(augmat)\n",
        "    x = np.zeros(N)\n",
        "    for row in range(N-1,-1,-1):\n",
        "        x[row] = augmat[row,N] \n",
        "        for col in range(row+1, N):\n",
        "            x[row] -= augmat[row,col]*x[col] \n",
        "        x[row] = x[row]/augmat[row,row]       \n",
        "    print(x)"
      ],
      "metadata": {
        "id": "lolKq2zcYqPP"
      },
      "execution_count": null,
      "outputs": []
    },
    {
      "cell_type": "markdown",
      "source": [
        "# Q1: Explicit Euler"
      ],
      "metadata": {
        "id": "Oyn8C1YEwciF"
      }
    },
    {
      "cell_type": "code",
      "source": [
        "def f(t,x):\n",
        "  return (-2*x)/(1+t)"
      ],
      "metadata": {
        "id": "JzZ50EYuyvHk"
      },
      "execution_count": null,
      "outputs": []
    },
    {
      "cell_type": "code",
      "execution_count": null,
      "metadata": {
        "colab": {
          "base_uri": "https://localhost:8080/"
        },
        "id": "-ew7yHwywaWT",
        "outputId": "126dba14-e177-4aba-e979-070b08b2de18"
      },
      "outputs": [
        {
          "output_type": "stream",
          "name": "stdout",
          "text": [
            "0.14269231594745302\n"
          ]
        }
      ],
      "source": [
        " n= 10000\n",
        "\n",
        "deltaT = 6/n\n",
        "\n",
        "t = np.linspace(0,6,n) # 0 is tL, 6 is tR, 100 is delta-t\n",
        "x = np.zeros(n)\n",
        "\n",
        "x[0] = 7\n",
        "\n",
        "for i in range (0,n-1):\n",
        "  x[i+1] = x[i]+ deltaT*f(t[i],x[i])\n",
        "\n",
        "print(x[-1])"
      ]
    },
    {
      "cell_type": "markdown",
      "source": [
        "# Q9 : Monte Carlo"
      ],
      "metadata": {
        "id": "zpXhRL6M5CTj"
      }
    },
    {
      "cell_type": "code",
      "source": [
        "def average(list):\n",
        "  outList = []\n",
        "  for i in range(0,len(list)):\n",
        "    addUp = 0\n",
        "    for u in range(0,i):\n",
        "      addUp += list[u]\n",
        "    outList[i] = 1/i*addUp\n",
        "  return outList\n",
        "  \n",
        "def interval(min,max):\n",
        "  return max-min\n",
        "\n",
        "def errorIntervl(mean, ulist,L,N):\n",
        "  return L*np.sqrt(1/N *(np.mean(ulist**2)-(mean**2)))"
      ],
      "metadata": {
        "id": "JuRE905t5C5r"
      },
      "execution_count": null,
      "outputs": []
    },
    {
      "cell_type": "code",
      "source": [
        "# Function to integrate\n",
        "def f_xyz(x,y,z):\n",
        "  return np.exp(-(x**4 + y**4 + z**4)/2)*np.cos(4*x*y)\n",
        "# Generate a vector containing the random numbers from a uniform distribution\n",
        "a, b = -3, 3\n",
        "c,d = -4, 4\n",
        "e, f = 0,5\n",
        "nsamples = 100000\n",
        "X=np.random.uniform(a, b, nsamples)\n",
        "Y=np.random.uniform(c, d, nsamples)\n",
        "Z=np.random.uniform(e, f, nsamples)\n",
        "# f(X): value of integral for each vector element\n",
        "# The mean value is then\n",
        "mean_f=np.mean(f_xyz(X,Y,Z))\n",
        "# Value of the integral\n",
        "F=(b-a)*(d-c)*(f-e)*mean_f\n",
        "print(F)"
      ],
      "metadata": {
        "id": "8fooGAJh5P0d",
        "colab": {
          "base_uri": "https://localhost:8080/"
        },
        "outputId": "bbb5840d-6dcc-4478-d6e0-befe5e41f5b7"
      },
      "execution_count": null,
      "outputs": [
        {
          "output_type": "stream",
          "name": "stdout",
          "text": [
            "1.8052069458293416\n"
          ]
        }
      ]
    },
    {
      "cell_type": "markdown",
      "source": [
        "# Q10: Explicit Euler for PDEs\n"
      ],
      "metadata": {
        "id": "EfYQGRYy5CP2"
      }
    },
    {
      "cell_type": "code",
      "source": [
        "L=5.0\n",
        "xmax=L\n",
        "dx=0.2\n",
        "dt=0.01\n",
        "tmax=7.0\n",
        "a=0.4\n",
        "c = a*dt/dx**2\n",
        "\n",
        "# Number of spatial points\n",
        "nx=5 # 51\n",
        "\n",
        "# Number of time points\n",
        "nt=int(round(tmax/dt))+1 # 1201\n",
        "\n",
        "G_tx=np.zeros((nt, nx))\n",
        "\n",
        "u0=100\n",
        "# initial condition: u(t=0,x)=u0\n",
        "for ix in range(nx):\n",
        "    G_tx[0,ix]=u0\n",
        "    \n",
        "# boundary conditions\n",
        "G_L=0.0\n",
        "G_R=0.0\n",
        "for it in range(nt):\n",
        "    G_tx[it,0]=G_L\n",
        "    G_tx[it,nx-1]=G_R\n",
        "    \n",
        "t=0    \n",
        "\n",
        "# Integrating the PDE\n",
        "for it in range(nt-1):\n",
        "    tnext=t+dt\n",
        "    for ix in range(1,nx-1):\n",
        "        G_tx[it+1,ix]=G_tx[it,ix]*(1-2.0*c) + c*(G_tx[it,ix-1])\n",
        "    t=tnext\n",
        "\n",
        "\n",
        "G_tx[7]"
      ],
      "metadata": {
        "id": "wUt19l6AySQm",
        "colab": {
          "base_uri": "https://localhost:8080/"
        },
        "outputId": "11bfad08-b5fc-4052-a295-c341dd5bc40b"
      },
      "execution_count": null,
      "outputs": [
        {
          "output_type": "execute_result",
          "data": {
            "text/plain": [
              "array([ 0.     , 20.97152, 39.3216 , 46.20288,  0.     ])"
            ]
          },
          "metadata": {},
          "execution_count": 6
        }
      ]
    },
    {
      "cell_type": "markdown",
      "source": [
        "# Q11 : System of DEs"
      ],
      "metadata": {
        "id": "-7BzVwRe0UOh"
      }
    },
    {
      "cell_type": "code",
      "source": [
        "def dxdt(x,S):\n",
        "  dx,x = S\n",
        "  return [dx, -2*dx - 3*(x**3)]"
      ],
      "metadata": {
        "id": "PEt3VFm-BRIL"
      },
      "execution_count": null,
      "outputs": []
    },
    {
      "cell_type": "code",
      "source": [
        "dx_init = 0.4\n",
        "x_init = 0.6\n",
        "\n",
        "S_init = [dx_init,x_init]\n"
      ],
      "metadata": {
        "id": "Ga6iY_kN0WYY"
      },
      "execution_count": null,
      "outputs": []
    },
    {
      "cell_type": "code",
      "source": [
        "x = np.linspace(x_init,8,100)\n",
        "solution = odeint(dxdt,y0=S_init,t=x,tfirst= True)\n",
        "\n",
        "solution[-1]"
      ],
      "metadata": {
        "colab": {
          "base_uri": "https://localhost:8080/"
        },
        "id": "JSwrcF0ACA60",
        "outputId": "4a993401-2ab4-49cf-b9d1-ecf95ee64f11"
      },
      "execution_count": null,
      "outputs": [
        {
          "output_type": "execute_result",
          "data": {
            "text/plain": [
              "array([654.3941085 ,  -7.57941971])"
            ]
          },
          "metadata": {},
          "execution_count": 41
        }
      ]
    }
  ]
}