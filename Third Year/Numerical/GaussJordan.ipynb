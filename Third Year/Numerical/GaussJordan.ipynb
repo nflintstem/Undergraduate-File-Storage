{
 "cells": [
  {
   "cell_type": "markdown",
   "id": "5df12361",
   "metadata": {},
   "source": [
    "# Lec 2 Gauss-Jordan"
   ]
  },
  {
   "cell_type": "markdown",
   "id": "8fcea09e",
   "metadata": {},
   "source": [
    "## Imports"
   ]
  },
  {
   "cell_type": "code",
   "execution_count": 1,
   "id": "ca0ab78e",
   "metadata": {},
   "outputs": [],
   "source": [
    "import numpy as np"
   ]
  },
  {
   "cell_type": "markdown",
   "id": "1629e864",
   "metadata": {},
   "source": [
    "### Gauss-Jordan Program"
   ]
  },
  {
   "cell_type": "code",
   "execution_count": 53,
   "id": "ccf2cd6a",
   "metadata": {},
   "outputs": [],
   "source": [
    "dim = 4\n",
    "matdim = (dim, dim+1)\n",
    "amat = np.zeros(matdim)"
   ]
  },
  {
   "cell_type": "code",
   "execution_count": 54,
   "id": "fd6a1fef",
   "metadata": {},
   "outputs": [],
   "source": [
    "amat[0,0] = 2\n",
    "amat[0,1] = 2\n",
    "amat[0,2] = 4\n",
    "amat[0,3] = -2\n",
    "amat[0,4] = 10"
   ]
  },
  {
   "cell_type": "code",
   "execution_count": 55,
   "id": "e323176f",
   "metadata": {},
   "outputs": [],
   "source": [
    "amat[1,0] = 1\n",
    "amat[1,1] = 3\n",
    "amat[1,2] = 2\n",
    "amat[1,3] = 4\n",
    "amat[1,4] = 17"
   ]
  },
  {
   "cell_type": "code",
   "execution_count": 56,
   "id": "eac20f35",
   "metadata": {},
   "outputs": [],
   "source": [
    "amat[2,0] = 3\n",
    "amat[2,1] = 1\n",
    "amat[2,2] = 3\n",
    "amat[2,3] = 1\n",
    "amat[2,4] = 18"
   ]
  },
  {
   "cell_type": "code",
   "execution_count": 57,
   "id": "eb6dd232",
   "metadata": {},
   "outputs": [],
   "source": [
    "amat[3,0] = 1\n",
    "amat[3,1] = 3\n",
    "amat[3,2] = 4\n",
    "amat[3,3] = 2\n",
    "amat[3,4] = 27"
   ]
  },
  {
   "cell_type": "code",
   "execution_count": 58,
   "id": "352830cd",
   "metadata": {},
   "outputs": [
    {
     "data": {
      "text/plain": [
       "array([[ 2.,  2.,  4., -2., 10.],\n",
       "       [ 1.,  3.,  2.,  4., 17.],\n",
       "       [ 3.,  1.,  3.,  1., 18.],\n",
       "       [ 1.,  3.,  4.,  2., 27.]])"
      ]
     },
     "execution_count": 58,
     "metadata": {},
     "output_type": "execute_result"
    }
   ],
   "source": [
    "amat"
   ]
  },
  {
   "cell_type": "markdown",
   "id": "bc8b2275",
   "metadata": {},
   "source": [
    "#### Elim\n",
    "\n",
    "first row where i = 0 :)"
   ]
  },
  {
   "cell_type": "code",
   "execution_count": 59,
   "id": "303edc3a",
   "metadata": {},
   "outputs": [],
   "source": [
    "pivot = amat[0,0]"
   ]
  },
  {
   "cell_type": "code",
   "execution_count": 60,
   "id": "0ef27ed5",
   "metadata": {},
   "outputs": [
    {
     "data": {
      "text/plain": [
       "array([[ 2.,  2.,  4., -2., 10.],\n",
       "       [ 0.,  2.,  0.,  5., 12.],\n",
       "       [ 0., -2., -3.,  4.,  3.],\n",
       "       [ 0.,  2.,  2.,  3., 22.]])"
      ]
     },
     "execution_count": 60,
     "metadata": {},
     "output_type": "execute_result"
    }
   ],
   "source": [
    "# need amat[1,0] = 0 after this \n",
    "ratio = amat[1,0]/amat[0,0]\n",
    "amat[1,0] -= amat[0,0]*ratio\n",
    "amat[1,1] -= amat[0,1]*ratio\n",
    "amat[1,2] -= amat[0,2]*ratio\n",
    "amat[1,3] -= amat[0,3]*ratio\n",
    "amat[1,4] -= amat[0,4]*ratio\n",
    "ratio = amat[2,0]/amat[0,0]\n",
    "amat[2,0] -= amat[0,0]*ratio\n",
    "amat[2,1] -= amat[0,1]*ratio\n",
    "amat[2,2] -= amat[0,2]*ratio\n",
    "amat[2,3] -= amat[0,3]*ratio\n",
    "amat[2,4] -= amat[0,4]*ratio\n",
    "ratio = amat[3,0]/amat[0,0]\n",
    "amat[3,0] -= amat[0,0]*ratio\n",
    "amat[3,1] -= amat[0,1]*ratio\n",
    "amat[3,2] -= amat[0,2]*ratio\n",
    "amat[3,3] -= amat[0,3]*ratio\n",
    "amat[3,4] -= amat[0,4]*ratio\n",
    "amat"
   ]
  },
  {
   "cell_type": "code",
   "execution_count": 61,
   "id": "79e59094",
   "metadata": {},
   "outputs": [
    {
     "data": {
      "text/plain": [
       "array([[ 2.,  2.,  4., -2., 10.],\n",
       "       [ 0.,  2.,  0.,  5., 12.],\n",
       "       [ 0.,  0., -3.,  9., 15.],\n",
       "       [ 0.,  0.,  2., -2., 10.]])"
      ]
     },
     "execution_count": 61,
     "metadata": {},
     "output_type": "execute_result"
    }
   ],
   "source": [
    "ratio = amat[2,1]/amat[1,1]\n",
    "amat[2,1] -= amat[1,1]*ratio\n",
    "amat[2,2] -= amat[1,2]*ratio\n",
    "amat[2,3] -= amat[1,3]*ratio\n",
    "amat[2,4] -= amat[1,4]*ratio\n",
    "ratio = amat[3,1]/amat[1,1]\n",
    "amat[3,1] -= amat[1,1]*ratio\n",
    "amat[3,2] -= amat[1,2]*ratio\n",
    "amat[3,3] -= amat[1,3]*ratio\n",
    "amat[3,4] -= amat[1,4]*ratio\n",
    "amat"
   ]
  },
  {
   "cell_type": "code",
   "execution_count": 62,
   "id": "e543da12",
   "metadata": {},
   "outputs": [
    {
     "data": {
      "text/plain": [
       "array([[ 2.,  2.,  4., -2., 10.],\n",
       "       [ 0.,  2.,  0.,  5., 12.],\n",
       "       [ 0.,  0., -3.,  9., 15.],\n",
       "       [ 0.,  0.,  0.,  4., 20.]])"
      ]
     },
     "execution_count": 62,
     "metadata": {},
     "output_type": "execute_result"
    }
   ],
   "source": [
    "ratio = amat[3,2]/amat[2,2]\n",
    "amat[3,2] -= amat[2,2]*ratio\n",
    "amat[3,3] -= amat[2,3]*ratio\n",
    "amat[3,4] -= amat[2,4]*ratio\n",
    "amat"
   ]
  },
  {
   "cell_type": "code",
   "execution_count": 64,
   "id": "27b0763c",
   "metadata": {},
   "outputs": [
    {
     "data": {
      "text/plain": [
       "5.0"
      ]
     },
     "execution_count": 64,
     "metadata": {},
     "output_type": "execute_result"
    }
   ],
   "source": [
    "x4 = amat[3,4]/amat[3,3]\n",
    "x4"
   ]
  },
  {
   "cell_type": "code",
   "execution_count": 67,
   "id": "501417a4",
   "metadata": {},
   "outputs": [
    {
     "data": {
      "text/plain": [
       "10.0"
      ]
     },
     "execution_count": 67,
     "metadata": {},
     "output_type": "execute_result"
    }
   ],
   "source": [
    "x3 = (amat[2,4]-amat[2,3]*x4)/amat[2,2]\n",
    "x3"
   ]
  },
  {
   "cell_type": "code",
   "execution_count": 68,
   "id": "b3f41f39",
   "metadata": {},
   "outputs": [
    {
     "data": {
      "text/plain": [
       "-6.5"
      ]
     },
     "execution_count": 68,
     "metadata": {},
     "output_type": "execute_result"
    }
   ],
   "source": [
    "x2 = (amat[1,4]-amat[1,3]*x4-amat[1,2]*x3)/amat[1,1]\n",
    "x2"
   ]
  },
  {
   "cell_type": "code",
   "execution_count": 71,
   "id": "adf979ab",
   "metadata": {},
   "outputs": [
    {
     "data": {
      "text/plain": [
       "-3.5"
      ]
     },
     "execution_count": 71,
     "metadata": {},
     "output_type": "execute_result"
    }
   ],
   "source": [
    "x1 = (amat[0,4]-amat[0,3]*x4-amat[0,2]*x3-amat[0,1]*x2)/amat[0,0]\n",
    "x1"
   ]
  },
  {
   "cell_type": "code",
   "execution_count": null,
   "id": "4dcb61f5",
   "metadata": {},
   "outputs": [],
   "source": []
  }
 ],
 "metadata": {
  "kernelspec": {
   "display_name": "Python 3 (ipykernel)",
   "language": "python",
   "name": "python3"
  },
  "language_info": {
   "codemirror_mode": {
    "name": "ipython",
    "version": 3
   },
   "file_extension": ".py",
   "mimetype": "text/x-python",
   "name": "python",
   "nbconvert_exporter": "python",
   "pygments_lexer": "ipython3",
   "version": "3.9.12"
  }
 },
 "nbformat": 4,
 "nbformat_minor": 5
}
